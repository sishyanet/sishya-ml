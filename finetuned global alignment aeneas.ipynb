{
 "cells": [
  {
   "cell_type": "code",
   "execution_count": 1,
   "id": "56e54218-79a3-4869-adc9-ded4e455be97",
   "metadata": {
    "editable": true,
    "slideshow": {
     "slide_type": ""
    },
    "tags": []
   },
   "outputs": [],
   "source": [
    "import sishya_lib as sl"
   ]
  },
  {
   "cell_type": "code",
   "execution_count": 16,
   "id": "116df458-b889-4bc3-ab5a-b82403c6d2a1",
   "metadata": {},
   "outputs": [],
   "source": [
    "# the directory that has the datasets in the following format:\n",
    "# dataset_dir\\sub_dir1\\audio.mp3, label.json\n",
    "#             \\sub_dir2\\audio.mp3, label.json\n",
    "dataset_dir = r\"C:\\Users\\Lenovo\\Desktop\\sishya\\audio alignment vs\\audio_alignment - nama\\dataset - after final tune\"\n",
    "\n",
    "#dumping warping path for easier analysis\n",
    "warping_path_dump_dir = r\"C:\\Users\\Lenovo\\Desktop\\sishya\\wps_after_final_tune\\aeneas\"\n"
   ]
  },
  {
   "cell_type": "code",
   "execution_count": 3,
   "id": "4847267d-1767-4089-856d-e1b8f6c7524d",
   "metadata": {},
   "outputs": [],
   "source": [
    "g_a = sl.AlignmentAeneas(algorithm=sl.AlignmentAlgorithm.DTW_STRIPE)"
   ]
  },
  {
   "cell_type": "code",
   "execution_count": 39,
   "id": "5c2a7b26-ee17-4d58-a037-5bfdc2ebe40f",
   "metadata": {},
   "outputs": [],
   "source": [
    "import os\n",
    "import glob\n",
    "at_arr = []\n",
    "dataset_names = []\n",
    "for sb in os.listdir(dataset_dir):\n",
    "    \n",
    "    f_a = r\"%s\\audio.mp3\"%(os.path.join(dataset_dir, sb))       \n",
    "    f_l = r\"%s\\label.json\"%(os.path.join(dataset_dir, sb))\n",
    "\n",
    "    dataset_names.append((len(dataset_names), sb))\n",
    "\n",
    "    at = g_a.audio_text(f_a, f_l)\n",
    "    at.calc_mfcc(g_a)\n",
    "    at_arr.append(at)\n"
   ]
  },
  {
   "cell_type": "code",
   "execution_count": 40,
   "id": "5c45303e-02ca-47be-b711-092a5b1a9e2c",
   "metadata": {},
   "outputs": [
    {
     "data": {
      "text/plain": [
       "[(0, 'vs'),\n",
       " (1, 'vs1'),\n",
       " (2, 'vs10'),\n",
       " (3, 'vs11'),\n",
       " (4, 'vs12'),\n",
       " (5, 'vs14'),\n",
       " (6, 'vs15'),\n",
       " (7, 'vs16'),\n",
       " (8, 'vs17 - tts synthetic'),\n",
       " (9, 'vs3'),\n",
       " (10, 'vs4'),\n",
       " (11, 'vs5'),\n",
       " (12, 'vs6'),\n",
       " (13, 'vs7'),\n",
       " (14, 'vs9')]"
      ]
     },
     "execution_count": 40,
     "metadata": {},
     "output_type": "execute_result"
    }
   ],
   "source": [
    "dataset_names"
   ]
  },
  {
   "cell_type": "code",
   "execution_count": 41,
   "id": "f77629fd-d420-498d-99e8-e56ebe8654d8",
   "metadata": {},
   "outputs": [],
   "source": [
    "assert os.path.isdir(warping_path_dump_dir)"
   ]
  },
  {
   "cell_type": "code",
   "execution_count": 42,
   "id": "c44accd9-842e-4f2e-a846-988b70f05b1e",
   "metadata": {},
   "outputs": [],
   "source": [
    "filename = r\"%s\\dataset_names.txt\" %(warping_path_dump_dir)\n",
    "with open(filename, 'w') as f:\n",
    "    f.write('\\n'.join(str(item) for item in dataset_names))\n"
   ]
  },
  {
   "cell_type": "code",
   "execution_count": 43,
   "id": "ce3fb2f3-7efb-4e65-ab6a-cc8281a3f0eb",
   "metadata": {},
   "outputs": [
    {
     "name": "stdout",
     "output_type": "stream",
     "text": [
      "Doing for r: 0\n",
      "Doing for q: 1\n",
      "Doing for q: 2\n",
      "Doing for q: 3\n",
      "Doing for q: 4\n",
      "Doing for q: 5\n",
      "Doing for q: 6\n",
      "Doing for q: 7\n",
      "Doing for q: 8\n",
      "Doing for q: 9\n",
      "Doing for q: 10\n",
      "Doing for q: 11\n",
      "Doing for q: 12\n",
      "Doing for q: 13\n",
      "Doing for q: 14\n",
      "Doing for r: 1\n",
      "Doing for q: 2\n",
      "Doing for q: 3\n",
      "Doing for q: 4\n",
      "Doing for q: 5\n",
      "Doing for q: 6\n",
      "Doing for q: 7\n",
      "Doing for q: 8\n",
      "Doing for q: 9\n",
      "Doing for q: 10\n",
      "Doing for q: 11\n",
      "Doing for q: 12\n",
      "Doing for q: 13\n",
      "Doing for q: 14\n",
      "Doing for r: 2\n",
      "Doing for q: 3\n",
      "Doing for q: 4\n",
      "Doing for q: 5\n",
      "Doing for q: 6\n",
      "Doing for q: 7\n",
      "Doing for q: 8\n",
      "Doing for q: 9\n",
      "Doing for q: 10\n",
      "Doing for q: 11\n",
      "Doing for q: 12\n",
      "Doing for q: 13\n",
      "Doing for q: 14\n",
      "Doing for r: 3\n",
      "Doing for q: 4\n",
      "Doing for q: 5\n",
      "Doing for q: 6\n",
      "Doing for q: 7\n",
      "Doing for q: 8\n",
      "Doing for q: 9\n",
      "Doing for q: 10\n",
      "Doing for q: 11\n",
      "Doing for q: 12\n",
      "Doing for q: 13\n",
      "Doing for q: 14\n",
      "Doing for r: 4\n",
      "Doing for q: 5\n",
      "Doing for q: 6\n",
      "Doing for q: 7\n",
      "Doing for q: 8\n",
      "Doing for q: 9\n",
      "Doing for q: 10\n",
      "Doing for q: 11\n",
      "Doing for q: 12\n",
      "Doing for q: 13\n",
      "Doing for q: 14\n",
      "Doing for r: 5\n",
      "Doing for q: 6\n",
      "Doing for q: 7\n",
      "Doing for q: 8\n",
      "Doing for q: 9\n",
      "Doing for q: 10\n",
      "Doing for q: 11\n",
      "Doing for q: 12\n",
      "Doing for q: 13\n",
      "Doing for q: 14\n",
      "Doing for r: 6\n",
      "Doing for q: 7\n",
      "Doing for q: 8\n",
      "Doing for q: 9\n",
      "Doing for q: 10\n",
      "Doing for q: 11\n",
      "Doing for q: 12\n",
      "Doing for q: 13\n",
      "Doing for q: 14\n",
      "Doing for r: 7\n",
      "Doing for q: 8\n",
      "Doing for q: 9\n",
      "Doing for q: 10\n",
      "Doing for q: 11\n",
      "Doing for q: 12\n",
      "Doing for q: 13\n",
      "Doing for q: 14\n",
      "Doing for r: 8\n",
      "Doing for q: 9\n",
      "Doing for q: 10\n",
      "Doing for q: 11\n",
      "Doing for q: 12\n",
      "Doing for q: 13\n",
      "Doing for q: 14\n",
      "Doing for r: 9\n",
      "Doing for q: 10\n",
      "Doing for q: 11\n",
      "Doing for q: 12\n",
      "Doing for q: 13\n",
      "Doing for q: 14\n",
      "Doing for r: 10\n",
      "Doing for q: 11\n",
      "Doing for q: 12\n",
      "Doing for q: 13\n",
      "Doing for q: 14\n",
      "Doing for r: 11\n",
      "Doing for q: 12\n",
      "Doing for q: 13\n",
      "Doing for q: 14\n",
      "Doing for r: 12\n",
      "Doing for q: 13\n",
      "Doing for q: 14\n",
      "Doing for r: 13\n",
      "Doing for q: 14\n",
      "Doing for r: 14\n"
     ]
    }
   ],
   "source": [
    "for r_idx in range(0, len(at_arr)):\n",
    "    print(\"Doing for r:\", r_idx)\n",
    "    for q_idx in range(r_idx+1, len(at_arr)):\n",
    "        print(\"Doing for q:\", q_idx)\n",
    "        ap = g_a.alignment_pair(at_arr[q_idx], at_arr[r_idx])\n",
    "        ap.get_warping_path()\n",
    "        ap.dump_warping_path(\"%s\\%d_%d.bin\" %(warping_path_dump_dir, q_idx, r_idx))\n",
    "        "
   ]
  }
 ],
 "metadata": {
  "kernelspec": {
   "display_name": "Python 3 (ipykernel)",
   "language": "python",
   "name": "python3"
  },
  "language_info": {
   "codemirror_mode": {
    "name": "ipython",
    "version": 3
   },
   "file_extension": ".py",
   "mimetype": "text/x-python",
   "name": "python",
   "nbconvert_exporter": "python",
   "pygments_lexer": "ipython3",
   "version": "3.11.7"
  }
 },
 "nbformat": 4,
 "nbformat_minor": 5
}
