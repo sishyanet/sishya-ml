{
 "cells": [
  {
   "cell_type": "code",
   "execution_count": 2,
   "id": "f1633dbe-ef31-46e0-96f3-9cb8f683bd1d",
   "metadata": {},
   "outputs": [],
   "source": [
    "import librosa\n",
    "import numpy as np\n",
    "from scipy.spatial.distance import cdist\n",
    "from math import inf\n",
    "from typing import Tuple\n",
    "import matplotlib.pyplot as plt"
   ]
  },
  {
   "cell_type": "code",
   "execution_count": 3,
   "id": "f51f9620-8f7c-4018-bed4-1bc7a20b355c",
   "metadata": {},
   "outputs": [],
   "source": [
    "\n",
    "def least_distance_mfcc(\n",
    "    mfcc_reference: np.ndarray, mfcc_query: np.ndarray\n",
    ") -> Tuple[int, int, float]:\n",
    "\n",
    "    min_distance = inf\n",
    "    start_index, end_index = 0, 0\n",
    "\n",
    "    distances = cdist(mfcc_reference, mfcc_query, \"euclidean\")\n",
    "\n",
    "    for i in range(0, distances.shape[0]):\n",
    "        current_distance, end = calculate_min_distance(i, distances, min_distance)\n",
    "        if current_distance < min_distance:\n",
    "            min_distance = current_distance\n",
    "            start_index = i\n",
    "            end_index = end\n",
    "\n",
    "    return start_index, end_index, min_distance\n",
    "\n",
    "\n",
    "def main():\n",
    "    file = r\"data/ds1.wav\"\n",
    "    y, sr = librosa.load(file)\n",
    "\n",
    "    REFERENCE_DURATION = 5  # in secs\n",
    "\n",
    "    NUM_QUERIES_IN_REFERENCE = 4\n",
    "\n",
    "    # number of samples in the reference duration\n",
    "    reference_samples = REFERENCE_DURATION * sr\n",
    "\n",
    "    # doing len(y) - reference_samples to leave out the last part, which maybe small enough to be lesser than n_fft\n",
    "    for i in range(0, len(y) - reference_samples, reference_samples):\n",
    "\n",
    "        y_reference = y[i : i + reference_samples]\n",
    "\n",
    "        mfcc_reference = librosa.feature.mfcc(y=y_reference, sr=sr)\n",
    "        \"\"\"\n",
    "        librosa returns an array with n_mfcc (number of mfcc's per frame)\n",
    "        number of columns. having an array with the number of columns equal to the number\n",
    "        of mfcc sets (number of frames) and number of rows equal to n_mfcc\n",
    "        is more easy to visualise and more importantly cdist function which\n",
    "        calculates the distance matrix requires that the number of rows to be\n",
    "        the same for the two arrays. Hence taking a traspose.\n",
    "        \"\"\"\n",
    "        mfcc_reference = mfcc_reference.T\n",
    "\n",
    "        num_mfccs_in_query = mfcc_reference.shape[0] / NUM_QUERIES_IN_REFERENCE\n",
    "\n",
    "        # for every reference, NUM_QUERIES_IN_REFERENCE queries are created.\n",
    "        for j in range(0, NUM_QUERIES_IN_REFERENCE):\n",
    "\n",
    "            # typecasting as int since query_start will be used as array index\n",
    "            # and only an integer can be an array index\n",
    "            query_start = int(j * num_mfccs_in_query)\n",
    "            query_end = query_start + int(num_mfccs_in_query)\n",
    "\n",
    "            mfcc_query = mfcc_reference[query_start:query_end]\n",
    "\n",
    "            # find the best match for the query within the reference\n",
    "            start_index, end_index, min_distance = least_distance_mfcc(\n",
    "                mfcc_reference, mfcc_query\n",
    "            )\n",
    "\n",
    "            # expect the best match to be the query itself\n",
    "            if (\n",
    "                start_index != query_start\n",
    "                or end_index != query_end - 1\n",
    "                or min_distance != 0\n",
    "            ):\n",
    "\n",
    "                print(\n",
    "                    \"i %d j %d. exp start %d [got %d] end %d [got %d]. \\\n",
    "                      Query length %d min distance %d\"\n",
    "                    % (\n",
    "                        i,\n",
    "                        j,\n",
    "                        query_start,\n",
    "                        start_index,\n",
    "                        query_end - 1,\n",
    "                        end_index,\n",
    "                        mfcc_query.shape[0],\n",
    "                        min_distance,\n",
    "                    )\n",
    "                )\n",
    "\n",
    "    print(\"DONE :\")\n"
   ]
  },
  {
   "cell_type": "code",
   "execution_count": 6,
   "id": "122b8bfb-a021-4b93-a69b-133ccc270b0e",
   "metadata": {},
   "outputs": [],
   "source": [
    "\n",
    "def get_next_distance(\n",
    "    reference_idx: int, query_idx: int, distances: np.ndarray\n",
    ") -> Tuple[float, int, int]:\n",
    "\n",
    "    distance = 0\n",
    "\n",
    "    # Reached the end of the query\n",
    "    if query_idx == distances.shape[1] - 1:\n",
    "        distance = -1\n",
    "    else:\n",
    "        # at the end of the reference, align all the coming queries to this end\n",
    "        if reference_idx == distances.shape[0] - 1:\n",
    "            query_idx = query_idx + 1\n",
    "            assert query_idx < distances.shape[1]\n",
    "            distance = distances[reference_idx][query_idx]\n",
    "        else:\n",
    "\n",
    "            temp_distance = []\n",
    "            min_dist = inf\n",
    "            min_idx = -1\n",
    "\n",
    "            # match\n",
    "            temp_distance.append(distances[reference_idx + 1][query_idx + 1])\n",
    "            # insert\n",
    "            temp_distance.append(distances[reference_idx][query_idx + 1])\n",
    "            # delete\n",
    "            temp_distance.append(distances[reference_idx + 1][query_idx])\n",
    "\n",
    "            for k in range(0, len(temp_distance)):\n",
    "                if temp_distance[k] < min_dist:\n",
    "                    min_dist = temp_distance[k]\n",
    "                    min_idx = k\n",
    "\n",
    "            if min_idx == 0:\n",
    "                reference_idx, query_idx = reference_idx + 1, query_idx + 1\n",
    "            elif min_idx == 1:\n",
    "                reference_idx, query_idx = reference_idx, query_idx + 1\n",
    "            else:\n",
    "                assert min_idx == 2\n",
    "                reference_idx, query_idx = reference_idx + 1, query_idx\n",
    "\n",
    "            distance = min_dist\n",
    "\n",
    "    return distance, reference_idx, query_idx\n"
   ]
  },
  {
   "cell_type": "code",
   "execution_count": 5,
   "id": "51cbc68c-4a7b-43c9-9f41-e7a49b1509a2",
   "metadata": {},
   "outputs": [],
   "source": [
    "\n",
    "def least_distance_mfcc(\n",
    "    mfcc_reference: np.ndarray, mfcc_query: np.ndarray\n",
    ") -> Tuple[int, int, float]:\n",
    "\n",
    "    min_distance = inf\n",
    "    start_index, end_index = 0, 0\n",
    "\n",
    "    distances = cdist(mfcc_reference, mfcc_query, \"euclidean\")\n",
    "\n",
    "    for i in range(0, distances.shape[0]):\n",
    "        current_distance, end = calculate_min_distance(i, distances, min_distance)\n",
    "        if current_distance < min_distance:\n",
    "            min_distance = current_distance\n",
    "            start_index = i\n",
    "            end_index = end\n",
    "\n",
    "    return start_index, end_index, min_distance\n"
   ]
  },
  {
   "cell_type": "code",
   "execution_count": 4,
   "id": "d7211cef-c562-4061-8516-398ae617e664",
   "metadata": {},
   "outputs": [],
   "source": [
    "\n",
    "def calculate_min_distance(\n",
    "    reference_idx: int, distances: np.ndarray, min_distance: float\n",
    ") -> Tuple[float, int]:\n",
    "\n",
    "    total_distance = 0\n",
    "    query_idx = 0\n",
    "\n",
    "    next_distance = distances[reference_idx][0]\n",
    "\n",
    "    reference_end_idx = reference_idx\n",
    "\n",
    "    while next_distance >= 0:\n",
    "\n",
    "        total_distance = total_distance + next_distance\n",
    "        next_distance, reference_end_idx, query_idx = get_next_distance(\n",
    "            reference_end_idx, query_idx, distances\n",
    "        )\n",
    "\n",
    "        # no need to traverse any more, this is not the best match\n",
    "        if total_distance > min_distance:\n",
    "            break\n",
    "\n",
    "    return total_distance, reference_end_idx\n"
   ]
  },
  {
   "cell_type": "code",
   "execution_count": 14,
   "id": "1c5c0cef-e080-4bc1-936d-d36f9e36039d",
   "metadata": {},
   "outputs": [
    {
     "name": "stdout",
     "output_type": "stream",
     "text": [
      "8000\n"
     ]
    }
   ],
   "source": [
    "file = r\"data/ds1.wav\"\n",
    "y, sr = librosa.load(file, sr=None)\n",
    "print(sr)\n"
   ]
  },
  {
   "cell_type": "code",
   "execution_count": 137,
   "id": "50a6542d-3bf8-4668-a002-446592aaedb7",
   "metadata": {},
   "outputs": [
    {
     "name": "stdout",
     "output_type": "stream",
     "text": [
      "Got mfcc_reference, size (212, 20)\n",
      "i 0 j 0\n",
      "Matches, 0 distance\n",
      "i 0 j 1\n",
      "Matches, 0 distance\n",
      "i 0 j 2\n",
      "Matches, 0 distance\n",
      "i 0 j 3\n",
      "Matches, 0 distance\n",
      "Got mfcc_reference, size (212, 20)\n",
      "i 110250 j 0\n",
      "Matches, 0 distance\n",
      "i 110250 j 1\n",
      "Matches, 0 distance\n",
      "i 110250 j 2\n",
      "Matches, 0 distance\n",
      "i 110250 j 3\n",
      "Matches, 0 distance\n",
      "DONE :\n"
     ]
    }
   ],
   "source": [
    "REFERENCE_DURATION = 5  # in secs\n",
    "NUM_QUERIES_IN_REFERENCE = 4\n",
    "\n",
    "# number of samples in the reference duration\n",
    "reference_samples = REFERENCE_DURATION * sr\n",
    "\n",
    "# doing len(y) - reference_samples to leave out the last part, which maybe small enough to be lesser than n_fft\n",
    "for i in range(0, len(y) - reference_samples, reference_samples):\n",
    "\n",
    "    y_reference = y[i : i + reference_samples]\n",
    "\n",
    "    mfcc_reference = librosa.feature.mfcc(y=y_reference, sr=sr, center=False)\n",
    "    \"\"\"\n",
    "    librosa returns an array with n_mfcc (number of mfcc's per frame)\n",
    "    number of columns. having an array with the number of columns equal to the number\n",
    "    of mfcc sets (number of frames) and number of rows equal to n_mfcc\n",
    "    is more easy to visualise and more importantly cdist function which\n",
    "    calculates the distance matrix requires that the number of rows to be\n",
    "    the same for the two arrays. Hence taking a traspose.\n",
    "    \"\"\"\n",
    "    mfcc_reference = mfcc_reference.T\n",
    "    print(f\"Got mfcc_reference, size {mfcc_reference.shape}\")\n",
    "    \n",
    "    num_mfccs_in_query = mfcc_reference.shape[0] / NUM_QUERIES_IN_REFERENCE\n",
    "\n",
    "    # for every reference, NUM_QUERIES_IN_REFERENCE queries are created.\n",
    "    for j in range(0, NUM_QUERIES_IN_REFERENCE):\n",
    "\n",
    "        print(f\"i {i} j {j}\")\n",
    "        \n",
    "        # typecasting as int since query_start will be used as array index\n",
    "        # and only an integer can be an array index\n",
    "        query_start = int(j * num_mfccs_in_query)\n",
    "        query_end = query_start + int(num_mfccs_in_query)\n",
    "\n",
    "        mfcc_query = mfcc_reference[query_start:query_end]\n",
    "\n",
    "        # find the best match for the query within the reference\n",
    "        start_index, end_index, min_distance = least_distance_mfcc(\n",
    "            mfcc_reference, mfcc_query\n",
    "        )\n",
    "\n",
    "        # expect the best match to be the query itself\n",
    "        if (\n",
    "            start_index != query_start\n",
    "            or end_index != query_end - 1\n",
    "            or min_distance != 0\n",
    "        ):\n",
    "\n",
    "            print(\n",
    "                \"i %d j %d. exp start %d [got %d] end %d [got %d]. \\\n",
    "                  Query length %d min distance %d\"\n",
    "                % (\n",
    "                    i,\n",
    "                    j,\n",
    "                    query_start,\n",
    "                    start_index,\n",
    "                    query_end - 1,\n",
    "                    end_index,\n",
    "                    mfcc_query.shape[0],\n",
    "                    min_distance,\n",
    "                )\n",
    "            )\n",
    "\n",
    "        else:\n",
    "            print(\"Matches, 0 distance\")\n",
    "\n",
    "print(\"DONE :\")\n"
   ]
  },
  {
   "cell_type": "code",
   "execution_count": 146,
   "id": "0d4802ab-973b-426e-9d56-2799ab33b943",
   "metadata": {},
   "outputs": [
    {
     "name": "stdout",
     "output_type": "stream",
     "text": [
      "[]\n"
     ]
    },
    {
     "data": {
      "text/plain": [
       "22050"
      ]
     },
     "execution_count": 146,
     "metadata": {},
     "output_type": "execute_result"
    }
   ],
   "source": [
    "len(y_reference)\n",
    "print(y_reference)\n",
    "sr"
   ]
  },
  {
   "cell_type": "code",
   "execution_count": 148,
   "id": "c03c224d-cb04-4345-9785-9d114b9903d8",
   "metadata": {},
   "outputs": [
    {
     "name": "stdout",
     "output_type": "stream",
     "text": [
      "(79, 20) (18, 20)\n"
     ]
    },
    {
     "data": {
      "text/plain": [
       "<matplotlib.image.AxesImage at 0x2cb102020>"
      ]
     },
     "execution_count": 148,
     "metadata": {},
     "output_type": "execute_result"
    },
    {
     "data": {
      "image/png": "[encoded data removed]",
      "text/plain": [
       "<Figure size 640x480 with 1 Axes>"
      ]
     },
     "metadata": {},
     "output_type": "display_data"
    }
   ],
   "source": [
    "mfcc_reference = librosa.feature.mfcc(y=y[0:40000], sr=8000, center=True)\n",
    "mfcc_reference = mfcc_reference.T\n",
    "mfcc_query = mfcc_reference[18:36]\n",
    "print(mfcc_reference.shape, mfcc_query.shape)\n",
    "distances = cdist(mfcc_reference, mfcc_query, \"euclidean\")\n",
    "plt.imshow(distances, cmap='hot', interpolation='nearest')"
   ]
  },
  {
   "cell_type": "code",
   "execution_count": 149,
   "id": "38b7321f-efd0-41a6-80a5-8d2968185070",
   "metadata": {
    "scrolled": true
   },
   "outputs": [
    {
     "data": {
      "text/plain": [
       "array([[35, 17],\n",
       "       [34, 16],\n",
       "       [33, 15],\n",
       "       [32, 14],\n",
       "       [31, 13],\n",
       "       [30, 12],\n",
       "       [29, 11],\n",
       "       [28, 10],\n",
       "       [27,  9],\n",
       "       [26,  8],\n",
       "       [25,  7],\n",
       "       [24,  6],\n",
       "       [23,  5],\n",
       "       [22,  4],\n",
       "       [21,  3],\n",
       "       [20,  2],\n",
       "       [19,  1],\n",
       "       [18,  0]])"
      ]
     },
     "execution_count": 149,
     "metadata": {},
     "output_type": "execute_result"
    }
   ],
   "source": [
    "D, wp = librosa.sequence.dtw(mfcc_reference.T, mfcc_query.T, subseq=True)\n",
    "wp"
   ]
  },
  {
   "cell_type": "code",
   "execution_count": 108,
   "id": "9bc870a9-f3f4-4ce7-9331-4065d4a9c1d3",
   "metadata": {},
   "outputs": [
    {
     "data": {
      "text/plain": [
       "[(0.0, 18.0), (0.0, 2.0), Text(0.5, 1.0, 'Matching cost function')]"
      ]
     },
     "execution_count": 108,
     "metadata": {},
     "output_type": "execute_result"
    },
    {
     "data": {
      "image/png": "[encoded data removed]",
      "text/plain": [
       "<Figure size 640x480 with 3 Axes>"
      ]
     },
     "metadata": {},
     "output_type": "display_data"
    }
   ],
   "source": [
    "X = mfcc_reference.T\n",
    "Y = mfcc_query.T\n",
    "\n",
    "D, wp = librosa.sequence.dtw(X, Y)\n",
    "fig, ax = plt.subplots(nrows=2, sharex=True)\n",
    "img = librosa.display.specshow(D, x_axis='frames', y_axis='frames',\n",
    "                               ax=ax[0])\n",
    "ax[0].set(title='DTW cost', xlabel='Noisy sequence', ylabel='Target')\n",
    "ax[0].plot(wp[:, 1], wp[:, 0], label='Optimal path', color='y')\n",
    "ax[0].legend()\n",
    "fig.colorbar(img, ax=ax[0])\n",
    "ax[1].plot(D[-1, :] / wp.shape[0])\n",
    "ax[1].set(xlim=[0, Y.shape[1]], ylim=[0, 2],\n",
    "          title='Matching cost function')\n"
   ]
  },
  {
   "cell_type": "code",
   "execution_count": 128,
   "id": "96e46b62-3500-4fdd-89a7-27a91ade1969",
   "metadata": {},
   "outputs": [
    {
     "data": {
      "text/plain": [
       "[(0.0, 75.0), (0.0, 500.0), Text(0.5, 1.0, 'Matching cost function')]"
      ]
     },
     "execution_count": 128,
     "metadata": {},
     "output_type": "execute_result"
    },
    {
     "data": {
      "image/png": "[encoded data removed]",
      "text/plain": [
       "<Figure size 640x480 with 3 Axes>"
      ]
     },
     "metadata": {},
     "output_type": "display_data"
    }
   ],
   "source": [
    "import numpy as np\n",
    "import matplotlib.pyplot as plt\n",
    "# y, sr = librosa.load(librosa.ex('brahms'), offset=10, duration=15)\n",
    "# X = librosa.feature.chroma_cens(y=y, sr=sr)\n",
    "X = mfcc_query.T\n",
    "# noise = np.random.rand(X.shape[0], 200)\n",
    "# Y = np.concatenate((noise, noise, X, noise), axis=1)\n",
    "Y = mfcc_reference.T\n",
    "D, wp = librosa.sequence.dtw(X, Y, subseq=True)\n",
    "fig, ax = plt.subplots(nrows=2, sharex=True)\n",
    "img = librosa.display.specshow(D, x_axis='frames', y_axis='frames',\n",
    "                               ax=ax[0])\n",
    "ax[0].set(title='DTW cost', xlabel='Noisy sequence', ylabel='Target')\n",
    "ax[0].plot(wp[:, 1], wp[:, 0], label='Optimal path', color='y')\n",
    "ax[0].legend()\n",
    "fig.colorbar(img, ax=ax[0])\n",
    "ax[1].plot(D[-1, :] / wp.shape[0])\n",
    "ax[1].set(xlim=[0, Y.shape[1]], ylim=[0, 500],\n",
    "          title='Matching cost function')\n"
   ]
  },
  {
   "cell_type": "code",
   "execution_count": 123,
   "id": "6945c130-9609-48a9-9c89-0a0558fa1a76",
   "metadata": {},
   "outputs": [
    {
     "data": {
      "text/plain": [
       "array([6563.28672178, 6112.32234056, 5787.06492882, 5786.43792569,\n",
       "       5810.158542  , 5863.68237719, 5715.23988947, 5259.93291425,\n",
       "       5048.4465035 , 4950.68388681, 4920.89248893, 4910.94580057,\n",
       "       4869.4748451 , 4746.63248139, 4652.26041537, 4642.50302505,\n",
       "       4540.18833268, 4431.48248341, 4436.06286893, 4444.97399179,\n",
       "       4381.77329887, 3393.76154119, 2206.35356419, 1496.82471901,\n",
       "       1299.98397013, 1187.04515064, 1092.431024  , 1012.00716925,\n",
       "        973.17503401,  966.89395789,  961.10203492,  952.25673225,\n",
       "        949.66067315,  684.00988226,  110.40143392,    0.        ,\n",
       "         66.07160726,  183.23574806,  308.59962389,  438.57296483,\n",
       "        611.16823757,  857.79780528, 1126.68426715, 1292.01595754,\n",
       "       1423.39596538, 1559.6695009 , 1697.72007617, 1833.52812931,\n",
       "       1968.49910389, 2106.71126431, 2249.30966189, 2399.41237123,\n",
       "       2544.14710429, 2686.79891994, 2834.31348943, 2983.83183367,\n",
       "       3138.58701057, 3296.24841119, 3451.14590079, 3582.09035396,\n",
       "       3717.40016061, 3848.81533168, 3976.95994211, 4113.76169422,\n",
       "       4251.07913849, 4237.70493107, 3807.50140824, 3339.0620628 ,\n",
       "       2647.73523985, 2010.0208324 , 1746.2784056 , 1690.68960796,\n",
       "       1679.32607613, 1651.30016491, 1640.96577424])"
      ]
     },
     "execution_count": 123,
     "metadata": {},
     "output_type": "execute_result"
    }
   ],
   "source": [
    "D[-1, :]"
   ]
  },
  {
   "cell_type": "code",
   "execution_count": 132,
   "id": "199dcc08-d42b-4ffd-a27d-f920db943a2c",
   "metadata": {},
   "outputs": [
    {
     "name": "stdout",
     "output_type": "stream",
     "text": [
      "35\n"
     ]
    },
    {
     "data": {
      "text/plain": [
       "0.0"
      ]
     },
     "execution_count": 132,
     "metadata": {},
     "output_type": "execute_result"
    }
   ],
   "source": [
    "end_index = np.argmin(D[-1, :])\n",
    "print(end_index)\n",
    "D[-1, end_index]"
   ]
  },
  {
   "cell_type": "code",
   "execution_count": 133,
   "id": "67ca60d0-7e38-4784-b567-682e3f0948a2",
   "metadata": {},
   "outputs": [
    {
     "data": {
      "text/plain": [
       "(18, 75)"
      ]
     },
     "execution_count": 133,
     "metadata": {},
     "output_type": "execute_result"
    }
   ],
   "source": [
    "D.shape"
   ]
  },
  {
   "cell_type": "code",
   "execution_count": 120,
   "id": "18d1ad5c-87e4-4f63-a883-6184b23754fc",
   "metadata": {},
   "outputs": [
    {
     "data": {
      "text/plain": [
       "((20, 75), (20, 18))"
      ]
     },
     "execution_count": 120,
     "metadata": {},
     "output_type": "execute_result"
    }
   ],
   "source": [
    "mfcc_reference.T.shape, mfcc_query.T.shape"
   ]
  }
 ],
 "metadata": {
  "kernelspec": {
   "display_name": "expt",
   "language": "python",
   "name": "expt"
  },
  "language_info": {
   "codemirror_mode": {
    "name": "ipython",
    "version": 3
   },
   "file_extension": ".py",
   "mimetype": "text/x-python",
   "name": "python",
   "nbconvert_exporter": "python",
   "pygments_lexer": "ipython3",
   "version": "3.10.5"
  }
 },
 "nbformat": 4,
 "nbformat_minor": 5
}
